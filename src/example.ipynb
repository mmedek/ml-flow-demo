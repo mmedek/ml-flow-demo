{
 "cells": [
  {
   "cell_type": "markdown",
   "metadata": {},
   "source": [
    "# MLFlow Tracking\n",
    "\n",
    "https://mlflow.org/\n",
    "\n",
    "## Kaggle Titanic Challange\n",
    "We use the well-known dataset from Kaggle called Titanic: Machine Learning from Disaster.\n",
    "The goal of the titanic challenge is to predict if the person died or survived during the disaster.\n",
    "https://www.kaggle.com/c/titanic"
   ]
  },
  {
   "cell_type": "markdown",
   "metadata": {},
   "source": [
    "### Basic imports"
   ]
  },
  {
   "cell_type": "code",
   "execution_count": 1,
   "metadata": {},
   "outputs": [],
   "source": [
    "import pandas as pd\n",
    "import numpy as np\n",
    "import os\n",
    "\n",
    "%matplotlib inline\n",
    "import warnings\n",
    "warnings.filterwarnings('ignore')\n",
    "import matplotlib.pyplot as plt\n",
    "plt.style.use('ggplot')\n",
    "\n",
    "from sklearn.model_selection import train_test_split"
   ]
  },
  {
   "cell_type": "markdown",
   "metadata": {},
   "source": [
    "### Helper functions"
   ]
  },
  {
   "cell_type": "code",
   "execution_count": 13,
   "metadata": {},
   "outputs": [],
   "source": [
    "# Source https://scikit-learn.org/stable/auto_examples/model_selection/plot_confusion_matrix.html\n",
    "def plot_confusion_matrix(\n",
    "    y_true,\n",
    "    y_pred,\n",
    "    classes,\n",
    "    normalize=False,\n",
    "    title=None,\n",
    "    cmap=plt.cm.Blues\n",
    "):\n",
    "    '''\n",
    "    This function prints and plots the confusion matrix.\n",
    "    Normalization can be applied by setting `normalize=True`.\n",
    "    '''\n",
    "    if not title:\n",
    "        if normalize:\n",
    "            title = 'Normalized confusion matrix'\n",
    "        else:\n",
    "            title = 'Confusion matrix, without normalization'\n",
    "\n",
    "    # Compute confusion matrix\n",
    "    cm = sklearn.metrics.confusion_matrix(y_true, y_pred)\n",
    "    # Only use the labels that appear in the data\n",
    "    if normalize:\n",
    "        cm = cm.astype('float') / cm.sum(axis=1)[:, np.newaxis]\n",
    "        print(\"Normalized confusion matrix\")\n",
    "    else:\n",
    "        print('Confusion matrix, without normalization')\n",
    "\n",
    "    fig, ax = plt.subplots()\n",
    "    im = ax.imshow(cm, interpolation='nearest', cmap=cmap)\n",
    "    ax.figure.colorbar(im, ax=ax)\n",
    "    # We want to show all ticks...\n",
    "    ax.set(\n",
    "        xticks=np.arange(cm.shape[1]),\n",
    "        yticks=np.arange(cm.shape[0]),\n",
    "        # ... and label them with the respective list entries\n",
    "        xticklabels=classes, yticklabels=classes,\n",
    "        title=title,\n",
    "        ylabel='True label',\n",
    "        xlabel='Predicted label'\n",
    "    )\n",
    "\n",
    "    # Rotate the tick labels and set their alignment.\n",
    "    plt.setp(\n",
    "        ax.get_xticklabels(),\n",
    "        rotation=45,\n",
    "        ha=\"right\",\n",
    "        rotation_mode=\"anchor\"\n",
    "    )\n",
    "\n",
    "    # Loop over data dimensions and create text annotations.\n",
    "    fmt = '.2f' if normalize else 'd'\n",
    "    thresh = cm.max() / 2.\n",
    "    for i in range(cm.shape[0]):\n",
    "        for j in range(cm.shape[1]):\n",
    "            ax.text(j, i, format(cm[i, j], fmt),\n",
    "                    ha=\"center\", va=\"center\",\n",
    "                    color=\"white\" if cm[i, j] > thresh else \"black\")\n",
    "    fig.tight_layout()\n",
    "    return ax"
   ]
  },
  {
   "cell_type": "markdown",
   "metadata": {},
   "source": [
    "### Pull data"
   ]
  },
  {
   "cell_type": "code",
   "execution_count": 3,
   "metadata": {},
   "outputs": [],
   "source": [
    "RELATIVE_DATA_FOLDER_PATH = './../data'\n",
    "RELATIVE_TRAIN_DATA_PATH = 'train.csv'\n",
    "RELATIVE_TEST_DATA_PATH = 'test.csv'\n",
    "\n",
    "def get_data(relative_data_folder_path, relative_path):\n",
    "    abs_path = os.path.abspath(os.path.join(relative_data_folder_path, relative_path))\n",
    "    return pd.read_csv(abs_path, header = 0)\n",
    "\n",
    "# load data from csv\n",
    "df_train = get_data(RELATIVE_DATA_FOLDER_PATH, RELATIVE_TRAIN_DATA_PATH)\n",
    "df_test = get_data(RELATIVE_DATA_FOLDER_PATH, RELATIVE_TEST_DATA_PATH)"
   ]
  },
  {
   "cell_type": "markdown",
   "metadata": {},
   "source": [
    "### Prepare data for simple experiments"
   ]
  },
  {
   "cell_type": "code",
   "execution_count": 4,
   "metadata": {},
   "outputs": [
    {
     "name": "stdout",
     "output_type": "stream",
     "text": [
      "<class 'pandas.core.frame.DataFrame'>\n",
      "RangeIndex: 891 entries, 0 to 890\n",
      "Data columns (total 12 columns):\n",
      "PassengerId    891 non-null int64\n",
      "Survived       891 non-null int64\n",
      "Pclass         891 non-null int64\n",
      "Name           891 non-null object\n",
      "Sex            891 non-null object\n",
      "Age            714 non-null float64\n",
      "SibSp          891 non-null int64\n",
      "Parch          891 non-null int64\n",
      "Ticket         891 non-null object\n",
      "Fare           891 non-null float64\n",
      "Cabin          204 non-null object\n",
      "Embarked       889 non-null object\n",
      "dtypes: float64(2), int64(5), object(5)\n",
      "memory usage: 83.6+ KB\n"
     ]
    }
   ],
   "source": [
    "# show data types and NaNs\n",
    "df_train.info()"
   ]
  },
  {
   "cell_type": "code",
   "execution_count": 5,
   "metadata": {},
   "outputs": [],
   "source": [
    "cols_drop = ['Name', 'Cabin', 'Ticket', 'Embarked']\n",
    "\n",
    "# drop object columns except Sex\n",
    "df_train = df_train.drop(cols_drop, axis=1).fillna(-1)\n",
    "df_train = df_train.drop(['PassengerId'], axis=1)\n",
    "df_test = df_test.drop(cols_drop, axis=1).fillna(-1)\n",
    "df_test = df_test.drop(['PassengerId'], axis=1)\n",
    "\n",
    "# change type of Sex column to INT\n",
    "df_train['Sex'] = df_train['Sex'].map( {'male': 0, 'female': 1} ).astype(int)\n",
    "df_test['Sex'] = df_test['Sex'].map( {'male': 0, 'female': 1} ).astype(int)"
   ]
  },
  {
   "cell_type": "code",
   "execution_count": 6,
   "metadata": {},
   "outputs": [],
   "source": [
    "TARGET_LABEL = 'Survived'\n",
    "\n",
    "X_train = df_train.copy()\n",
    "y_train = pd.DataFrame()\n",
    "y_train[TARGET_LABEL] = df_train[TARGET_LABEL]\n",
    "X_train = X_train.drop([TARGET_LABEL], axis=1)\n",
    "X_test = df_test.copy()\n",
    "\n",
    "X_train, X_val, y_train, y_val = train_test_split(X_train, y_train, test_size=0.2, random_state=1)"
   ]
  },
  {
   "cell_type": "markdown",
   "metadata": {},
   "source": [
    "### Dataset \n",
    "\n",
    "**Feature Dictionary:**<br />\n",
    "Pclass = Ticket class (1=Upper, 2=Middle, 3=Lower)<br />\n",
    "Sex = Gender (0=male, 1=female)<br />\n",
    "Age = Age of current person (-1=NaN)<br />\n",
    "SibSp = Number of siblings / spouses aboard the Titanic<br />\n",
    "Parch = Number of parents / children aboard the Titanic<br />\n",
    "Fare = Passenger fare<br />\n",
    "\n",
    "**Target Dictionary:**<br />\n",
    "Survived = If a person survived or not (0=No, 1=Yes)"
   ]
  },
  {
   "cell_type": "code",
   "execution_count": 7,
   "metadata": {},
   "outputs": [
    {
     "name": "stdout",
     "output_type": "stream",
     "text": [
      "<class 'pandas.core.frame.DataFrame'>\n",
      "Int64Index: 712 entries, 301 to 37\n",
      "Data columns (total 6 columns):\n",
      "Pclass    712 non-null int64\n",
      "Sex       712 non-null int64\n",
      "Age       712 non-null float64\n",
      "SibSp     712 non-null int64\n",
      "Parch     712 non-null int64\n",
      "Fare      712 non-null float64\n",
      "dtypes: float64(2), int64(4)\n",
      "memory usage: 38.9 KB\n"
     ]
    }
   ],
   "source": [
    "X_train.info()"
   ]
  },
  {
   "cell_type": "markdown",
   "metadata": {},
   "source": [
    "## Training models"
   ]
  },
  {
   "cell_type": "code",
   "execution_count": 36,
   "metadata": {},
   "outputs": [],
   "source": [
    "from sklearn.linear_model import LogisticRegression\n",
    "from sklearn.tree import DecisionTreeClassifier\n",
    "import xgboost as xgb\n",
    "\n",
    "import sklearn.metrics\n",
    "\n",
    "import mlflow"
   ]
  },
  {
   "cell_type": "code",
   "execution_count": 56,
   "metadata": {},
   "outputs": [
    {
     "name": "stdout",
     "output_type": "stream",
     "text": [
      "Confusion matrix, without normalization\n"
     ]
    },
    {
     "name": "stderr",
     "output_type": "stream",
     "text": [
      "/Users/michal.medek/anaconda3/lib/python3.6/site-packages/numpy/lib/type_check.py:546: DeprecationWarning: np.asscalar(a) is deprecated since NumPy v1.16, use a.item() instead\n",
      "  'a.item() instead', DeprecationWarning, stacklevel=1)\n"
     ]
    },
    {
     "data": {
      "image/png": "[encoded data removed]",
      "text/plain": [
       "<Figure size 432x288 with 2 Axes>"
      ]
     },
     "metadata": {},
     "output_type": "display_data"
    }
   ],
   "source": [
    "# 'tree', 'xgboost', 'log_regression'\n",
    "CLASSIFIER_NAME = 'tree'\n",
    "\n",
    "with mlflow.start_run():\n",
    "    \n",
    "    def get_clf(classifier_name):\n",
    "    \n",
    "        if classifier_name == 'log_regression':\n",
    "            random_state = 0\n",
    "            \n",
    "            mlflow.log_param('random_state', random_state)\n",
    "            mlflow.log_param('classifier_name', classifier_name)\n",
    "            \n",
    "            return LogisticRegression(random_state=random_state)\n",
    "        elif classifier_name == 'tree':\n",
    "            random_state = 0\n",
    "            max_depth = 10\n",
    "            \n",
    "            mlflow.log_param('random_state', random_state)\n",
    "            mlflow.log_param('max_depth', max_depth)\n",
    "            mlflow.log_param('classifier_name', classifier_name)\n",
    "            \n",
    "            return DecisionTreeClassifier(random_state=random_state, max_depth=max_depth)\n",
    "        elif classifier_name == 'xgboost':\n",
    "            max_depth = 5\n",
    "            \n",
    "            mlflow.log_param('classifier_name', classifier_name)\n",
    "            mlflow.log_param('max_depth', max_depth)\n",
    "            \n",
    "            return xgb.XGBClassifier(max_depth=5)\n",
    "    \n",
    "    # get model    \n",
    "    clf = get_clf(CLASSIFIER_NAME)\n",
    "\n",
    "    # fit model\n",
    "    clf.fit(\n",
    "        X=X_train,\n",
    "        y=y_train\n",
    "    )\n",
    "    \n",
    "    # classify validation set\n",
    "    y_hat = clf.predict(X_val)\n",
    "    \n",
    "    # get metrics\n",
    "    f1_raw = sklearn.metrics.f1_score(y_val, y_hat)\n",
    "    f1 = round(f1_raw * 100, 2)\n",
    "    acc = round(sklearn.metrics.accuracy_score(y_val, y_hat) * 100, 2)\n",
    "    prec = round(sklearn.metrics.precision_score(y_val, y_hat) * 100, 2)\n",
    "    rec = round(sklearn.metrics.recall_score(y_val, y_hat) * 100, 2)\n",
    "\n",
    "    # log metrics\n",
    "    mlflow.log_metric('f1_score', f1)\n",
    "    mlflow.log_metric('acc', acc)\n",
    "    mlflow.log_metric('prec', prec)\n",
    "    mlflow.log_metric('rec', rec)\n",
    "    \n",
    "    # log artifact\n",
    "    plot_confusion_matrix(y_val, y_hat, classes=[0, 1], \n",
    "                          normalize=False, title='Confusion matrix')\n",
    "    CONF_MATRIX_PATH = 'conf_matrix.png'\n",
    "    \n",
    "    plt.savefig(CONF_MATRIX_PATH)\n",
    "    mlflow.log_artifact(CONF_MATRIX_PATH)\n",
    "    \n",
    "    # mlflow.sklearn.log_model(lr, \"model\")"
   ]
  },
  {
   "cell_type": "code",
   "execution_count": null,
   "metadata": {},
   "outputs": [],
   "source": []
  }
 ],
 "metadata": {
  "kernelspec": {
   "display_name": "Python 3",
   "language": "python",
   "name": "python3"
  },
  "language_info": {
   "codemirror_mode": {
    "name": "ipython",
    "version": 3
   },
   "file_extension": ".py",
   "mimetype": "text/x-python",
   "name": "python",
   "nbconvert_exporter": "python",
   "pygments_lexer": "ipython3",
   "version": "3.6.5"
  }
 },
 "nbformat": 4,
 "nbformat_minor": 2
}
